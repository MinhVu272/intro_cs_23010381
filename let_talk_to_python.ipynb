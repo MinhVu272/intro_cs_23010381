{
 "cells": [
  {
   "cell_type": "code",
   "execution_count": 1,
   "id": "1a05d32c",
   "metadata": {
    "scrolled": true
   },
   "outputs": [
    {
     "name": "stdout",
     "output_type": "stream",
     "text": [
      "so a: 5\n",
      "la so le\n"
     ]
    }
   ],
   "source": [
    "a = int(input(\"so a: \"))\n",
    "if a%2 == 0:\n",
    "    print(\"la so chan\")\n",
    "else:\n",
    "    print(\"la so le\")"
   ]
  },
  {
   "cell_type": "code",
   "execution_count": 4,
   "id": "9ca30690",
   "metadata": {},
   "outputs": [
    {
     "name": "stdout",
     "output_type": "stream",
     "text": [
      "10.0\n"
     ]
    }
   ],
   "source": [
    "a = (2+10)*5/6\n",
    "print(a)"
   ]
  },
  {
   "cell_type": "code",
   "execution_count": 9,
   "id": "900dbce3",
   "metadata": {},
   "outputs": [
    {
     "name": "stdout",
     "output_type": "stream",
     "text": [
      "Type your name:\n",
      "minh\n",
      "Hi minh how are you?\n"
     ]
    }
   ],
   "source": [
    "\n",
    "    print(\"Type your name:\")\n",
    "    name = input()\n",
    "    print(\"Hi\", name, \"how are you?\")"
   ]
  },
  {
   "cell_type": "code",
   "execution_count": null,
   "id": "1afb7f40",
   "metadata": {},
   "outputs": [],
   "source": []
  },
  {
   "cell_type": "code",
   "execution_count": null,
   "id": "a19035b5",
   "metadata": {},
   "outputs": [],
   "source": []
  }
 ],
 "metadata": {
  "kernelspec": {
   "display_name": "Python 3 (ipykernel)",
   "language": "python",
   "name": "python3"
  },
  "language_info": {
   "codemirror_mode": {
    "name": "ipython",
    "version": 3
   },
   "file_extension": ".py",
   "mimetype": "text/x-python",
   "name": "python",
   "nbconvert_exporter": "python",
   "pygments_lexer": "ipython3",
   "version": "3.9.7"
  }
 },
 "nbformat": 4,
 "nbformat_minor": 5
}
